{
 "cells": [
  {
   "cell_type": "code",
   "execution_count": null,
   "metadata": {},
   "outputs": [],
   "source": [
    "import streamlit as st\n",
    "import google.generativeai as genai\n",
    "\n",
    "from PIL import Image\n",
    "import pandas as pd\n",
    "import json\n",
    "\n",
    "from IPython.display import display\n",
    "from IPython.display import Markdown\n",
    "import textwrap\n",
    "def to_markdown(text):\n",
    "  text = text.replace('•', '  *')\n",
    "  return Markdown(textwrap.indent(text, '> ', predicate=lambda _: True))\n",
    "\n",
    "GOOGLE_API_KEY = st.secrets[\"GOOGLE_API_KEY\"]\n",
    "genai.configure(api_key=GOOGLE_API_KEY)\n",
    "\n",
    "generation_config = {\n",
    "  \"temperature\": 0.2,\n",
    "  \"max_output_tokens\": 4096,\n",
    "  \"top_k\": 40,\n",
    "  \"top_p\": 0.95,\n",
    "}\n",
    "\n",
    "model = genai.GenerativeModel(\n",
    "  model_name='gemini-pro-vision',\n",
    "  generation_config=generation_config,\n",
    "  safety_settings={\n",
    "    'harassment':'block_none',\n",
    "    'hate':'block_none',\n",
    "    'sex':'block_none',\n",
    "    'danger':'block_none'\n",
    "  }\n",
    ")\n",
    "\n",
    "def img_json(s:pd.Series) -> (Image, str):\n",
    "  d = {k:\"\" if pd.isna(v) else v for k,v in s.to_dict().items()}\n",
    "  f = d['file_name']\n",
    "  del d['file_name']\n",
    "  return Image.open(f), \"JSON:\\n\"+json.dumps(d, ensure_ascii=False, indent=4)\n",
    "\n",
    "def to_series(json_str, file_name):\n",
    "  d = json.loads(json_str)\n",
    "  d['receipt_datetime'] = pd.Timestamp(d['receipt_datetime'])\n",
    "  d['file_name'] = file_name\n",
    "  return pd.Series(d)"
   ]
  },
  {
   "cell_type": "code",
   "execution_count": null,
   "metadata": {},
   "outputs": [],
   "source": [
    "parts = [\"\"\"Transform the following recipt (or slip) in a JSON format in Korean(한국어).\n",
    "Keys are ['receipt_datatime', 'business_name(상호명,가맹점명)', 'business_no(사업자번호)', 'address', 'tel', 'fax', 'e-mail', 'item_summary', 'currency unit', 'total'].\n",
    "Do NOT translate the keys and addresses.\n",
    "'business_no' is place near the 'business_name' and it is of the form \"xxx-xx-xxxxx\".\n",
    "Categories are ['식사', '음료', '식료품', '주류', '사무용품', '의약품', ...].\n",
    "\"\"\"]\n",
    "\n",
    "example_df = pd.read_csv('./example/receipt.csv', index_col=0)\n",
    "for i, s in example_df.iterrows():\n",
    "  parts += img_json(s)"
   ]
  },
  {
   "cell_type": "code",
   "execution_count": null,
   "metadata": {},
   "outputs": [],
   "source": [
    "example_df"
   ]
  },
  {
   "cell_type": "code",
   "execution_count": null,
   "metadata": {},
   "outputs": [],
   "source": [
    "prompt = [Image.open('./example/imgs/000.jpg'), \"JSON:\\n\"]\n",
    "response = model.generate_content(parts + prompt)\n",
    "to_markdown('```json\\n'+response.text+'\\n```')"
   ]
  },
  {
   "cell_type": "code",
   "execution_count": null,
   "metadata": {},
   "outputs": [],
   "source": [
    "to_series(response.text, './example/imgs/013.jpg')['file_name']"
   ]
  },
  {
   "cell_type": "code",
   "execution_count": null,
   "metadata": {},
   "outputs": [],
   "source": [
    "new_df = pd.concat([example_df, pd.DataFrame([to_series(response.text, './example/imgs/013.jpg')])]).reset_index(drop=True)"
   ]
  },
  {
   "cell_type": "code",
   "execution_count": null,
   "metadata": {},
   "outputs": [],
   "source": [
    "new_df"
   ]
  },
  {
   "cell_type": "code",
   "execution_count": null,
   "metadata": {},
   "outputs": [],
   "source": [
    "new_df.loc[13, 'business_name'] = '보비스쿰 카페테리아'\n",
    "new_df.loc[13, 'business_no'] = '303-82-11227'\n",
    "\n",
    "new_df"
   ]
  },
  {
   "cell_type": "code",
   "execution_count": null,
   "metadata": {},
   "outputs": [],
   "source": [
    "new_df.to_csv('./example/receipt.csv')"
   ]
  },
  {
   "cell_type": "code",
   "execution_count": null,
   "metadata": {},
   "outputs": [],
   "source": []
  },
  {
   "cell_type": "code",
   "execution_count": null,
   "metadata": {},
   "outputs": [],
   "source": [
    "example_df.dtypes"
   ]
  },
  {
   "cell_type": "code",
   "execution_count": null,
   "metadata": {},
   "outputs": [],
   "source": []
  }
 ],
 "metadata": {
  "kernelspec": {
   "display_name": "gemini",
   "language": "python",
   "name": "python3"
  },
  "language_info": {
   "codemirror_mode": {
    "name": "ipython",
    "version": 3
   },
   "file_extension": ".py",
   "mimetype": "text/x-python",
   "name": "python",
   "nbconvert_exporter": "python",
   "pygments_lexer": "ipython3",
   "version": "3.11.5"
  }
 },
 "nbformat": 4,
 "nbformat_minor": 2
}
